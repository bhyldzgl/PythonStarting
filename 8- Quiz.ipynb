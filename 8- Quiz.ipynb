{
 "cells": [
  {
   "cell_type": "code",
   "execution_count": 1,
   "id": "c41f9757-1cc6-45f1-a8f5-49c93ac93058",
   "metadata": {},
   "outputs": [],
   "source": [
    "# 1) Asagidaki string'in 5. harfini bir degiskene atayiniz"
   ]
  },
  {
   "cell_type": "code",
   "execution_count": 2,
   "id": "7631e188-cd76-4e13-ab38-116fa4a7d7a0",
   "metadata": {},
   "outputs": [],
   "source": [
    "my_String = \"Python Ogreniyorum\""
   ]
  },
  {
   "cell_type": "code",
   "execution_count": 6,
   "id": "013a2b01-1b54-4b42-8c9c-44e89800c424",
   "metadata": {},
   "outputs": [],
   "source": [
    "solutions1 = my_String[4]"
   ]
  },
  {
   "cell_type": "code",
   "execution_count": 7,
   "id": "c821e7d7-bc69-4eb4-838a-1227721217f1",
   "metadata": {},
   "outputs": [
    {
     "data": {
      "text/plain": [
       "'o'"
      ]
     },
     "execution_count": 7,
     "metadata": {},
     "output_type": "execute_result"
    }
   ],
   "source": [
    "solutions1"
   ]
  },
  {
   "cell_type": "code",
   "execution_count": 8,
   "id": "563c38bf-19b6-4fbd-990c-9c164cdf8314",
   "metadata": {},
   "outputs": [],
   "source": [
    "# 2) Asagidaki String'in 5. ve 8. karakteri arasindaki tum harflerini yazdiriniz (5 ve 8 dahil)"
   ]
  },
  {
   "cell_type": "code",
   "execution_count": 9,
   "id": "a3970182-c549-4933-9ea2-bba717218972",
   "metadata": {},
   "outputs": [],
   "source": [
    "my_new_string = \"ProgramlamayaMerhabaDedik\""
   ]
  },
  {
   "cell_type": "code",
   "execution_count": 11,
   "id": "f2c19058-66ae-47fb-862e-f5dea28ee18a",
   "metadata": {},
   "outputs": [
    {
     "data": {
      "text/plain": [
       "'raml'"
      ]
     },
     "execution_count": 11,
     "metadata": {},
     "output_type": "execute_result"
    }
   ],
   "source": [
    "#slicing , starting index , stopping index , stepping index\n",
    "\n",
    "my_new_string[4:8:]"
   ]
  },
  {
   "cell_type": "code",
   "execution_count": 12,
   "id": "aceeb6c4-c416-45f4-bf6b-b4a5f8fb3690",
   "metadata": {},
   "outputs": [],
   "source": [
    "# 3) Asagidaki String'i kod ile tersten yazin"
   ]
  },
  {
   "cell_type": "code",
   "execution_count": 13,
   "id": "8468d465-d40c-43d8-b078-400872dab172",
   "metadata": {},
   "outputs": [],
   "source": [
    "my_last_string = \"Afyonkarahisarlilastiramadiklarimizdanmisiniz\""
   ]
  },
  {
   "cell_type": "code",
   "execution_count": 17,
   "id": "70c60ca7-dd99-453f-8f17-975907f592cf",
   "metadata": {},
   "outputs": [
    {
     "data": {
      "text/plain": [
       "'zinisimnadzimiralkidamaritsalilrasiharaknoyfA'"
      ]
     },
     "execution_count": 17,
     "metadata": {},
     "output_type": "execute_result"
    }
   ],
   "source": [
    "my_last_string[::-1]"
   ]
  },
  {
   "cell_type": "code",
   "execution_count": 18,
   "id": "d6d7239a-3ff1-4a57-b281-d6715d146b83",
   "metadata": {},
   "outputs": [],
   "source": [
    "# 4) Asagidaki islemin sonucu hangi veri tipinde olacaktir?"
   ]
  },
  {
   "cell_type": "code",
   "execution_count": 23,
   "id": "8143271a-5a4d-4357-9bd4-107eccf517d0",
   "metadata": {},
   "outputs": [],
   "source": [
    "#float"
   ]
  },
  {
   "cell_type": "code",
   "execution_count": 24,
   "id": "32d47f21-ccda-4b83-9aa9-01cc6d6b8179",
   "metadata": {},
   "outputs": [
    {
     "data": {
      "text/plain": [
       "float"
      ]
     },
     "execution_count": 24,
     "metadata": {},
     "output_type": "execute_result"
    }
   ],
   "source": [
    "type(4 + 12.2 + 48)"
   ]
  },
  {
   "cell_type": "code",
   "execution_count": 25,
   "id": "af9f04ff-9e51-4f82-8928-f37616074de1",
   "metadata": {},
   "outputs": [],
   "source": [
    "# 5) Asagidaki islemin sonucu kactir?"
   ]
  },
  {
   "cell_type": "code",
   "execution_count": 26,
   "id": "6cc9d1f3-9ef6-4fd8-9cd1-8fcc152c4b83",
   "metadata": {},
   "outputs": [
    {
     "data": {
      "text/plain": [
       "89"
      ]
     },
     "execution_count": 26,
     "metadata": {},
     "output_type": "execute_result"
    }
   ],
   "source": [
    "5 + 7 * 12"
   ]
  },
  {
   "cell_type": "code",
   "execution_count": 27,
   "id": "1cfed97b-f229-45c8-a08a-d84473c3b092",
   "metadata": {},
   "outputs": [],
   "source": [
    "# 6) Bu listeyi en az 2 farkli yoldan olusturunuz: [1,3,\"a\"]"
   ]
  },
  {
   "cell_type": "code",
   "execution_count": 29,
   "id": "612f69cb-fc6c-4ed7-87ea-8fa34cc0728c",
   "metadata": {},
   "outputs": [],
   "source": [
    "my_list = [1,3,\"a\"]"
   ]
  },
  {
   "cell_type": "code",
   "execution_count": 30,
   "id": "d1fb6cdd-623a-476c-8810-e8049b6b73e5",
   "metadata": {},
   "outputs": [
    {
     "data": {
      "text/plain": [
       "list"
      ]
     },
     "execution_count": 30,
     "metadata": {},
     "output_type": "execute_result"
    }
   ],
   "source": [
    "type(myList)"
   ]
  },
  {
   "cell_type": "code",
   "execution_count": 40,
   "id": "1c0089cc-7d92-474f-a8cd-b67ffc3bba87",
   "metadata": {},
   "outputs": [],
   "source": [
    "my_list = list()"
   ]
  },
  {
   "cell_type": "code",
   "execution_count": 41,
   "id": "2e26b1be-0209-42a5-99ef-5a19ea86f5d8",
   "metadata": {},
   "outputs": [],
   "source": [
    "my_list.append(1)\n",
    "my_list.append(3)\n",
    "my_list.append(\"a\")"
   ]
  },
  {
   "cell_type": "code",
   "execution_count": 42,
   "id": "caf11a23-baac-461a-952c-b6256c3cee44",
   "metadata": {},
   "outputs": [
    {
     "data": {
      "text/plain": [
       "[1, 3, 'a']"
      ]
     },
     "execution_count": 42,
     "metadata": {},
     "output_type": "execute_result"
    }
   ],
   "source": [
    "my_list"
   ]
  },
  {
   "cell_type": "code",
   "execution_count": 43,
   "id": "009fbf6f-c619-4a18-98a4-7b598d7248e8",
   "metadata": {},
   "outputs": [],
   "source": [
    "# 7) Asagidaki \"b\"'yi tek satirda aliniz:"
   ]
  },
  {
   "cell_type": "code",
   "execution_count": 44,
   "id": "baa51c00-de88-40a1-850d-90575e0239b5",
   "metadata": {},
   "outputs": [],
   "source": [
    "my_list = [3.14,4,[2,3,\"b\"],True]"
   ]
  },
  {
   "cell_type": "code",
   "execution_count": 45,
   "id": "3528ad97-af64-4dee-93f9-20d182816636",
   "metadata": {},
   "outputs": [
    {
     "data": {
      "text/plain": [
       "'b'"
      ]
     },
     "execution_count": 45,
     "metadata": {},
     "output_type": "execute_result"
    }
   ],
   "source": [
    "my_list[2][2]"
   ]
  },
  {
   "cell_type": "code",
   "execution_count": 46,
   "id": "0019e66a-8da1-49aa-8a67-2fca5c2d432b",
   "metadata": {},
   "outputs": [],
   "source": [
    "# 8) Asagidaki \"a\"'yi tek satirda aliniz:"
   ]
  },
  {
   "cell_type": "code",
   "execution_count": 47,
   "id": "2379715e-23d6-48a8-af8e-6af3f1e5ae1d",
   "metadata": {},
   "outputs": [],
   "source": [
    "my_dictionary = {\"key1\":20.25, \"kk2\":[40,{\"k21\":\"a\"}]}"
   ]
  },
  {
   "cell_type": "code",
   "execution_count": 53,
   "id": "9149dfdc-64a6-4b6e-be97-078fe24a9cf7",
   "metadata": {},
   "outputs": [
    {
     "data": {
      "text/plain": [
       "'a'"
      ]
     },
     "execution_count": 53,
     "metadata": {},
     "output_type": "execute_result"
    }
   ],
   "source": [
    "my_dictionary[\"kk2\"][1][\"k21\"]"
   ]
  },
  {
   "cell_type": "code",
   "execution_count": 54,
   "id": "18c9d913-e4d2-42ff-901e-3b81bb972137",
   "metadata": {},
   "outputs": [],
   "source": [
    "# 9) Asagidaki liste set'e cevirilince hangi degerler icinde kalacaktir?"
   ]
  },
  {
   "cell_type": "code",
   "execution_count": 55,
   "id": "e4c8bc77-f4f1-4a27-a013-df8b4fbc35a6",
   "metadata": {},
   "outputs": [],
   "source": [
    "my_list_to_be_set = [3,4,9,3,21,22,4,3,9,10,21,22]"
   ]
  },
  {
   "cell_type": "code",
   "execution_count": 56,
   "id": "0e22b0d5-5b23-45f4-86b7-971ebfbddeb9",
   "metadata": {},
   "outputs": [],
   "source": [
    "# 3 ,4,9,21,22,10,21"
   ]
  },
  {
   "cell_type": "code",
   "execution_count": 57,
   "id": "8ff4d8ab-d166-482a-8a52-4ca8bcd3e5d1",
   "metadata": {},
   "outputs": [
    {
     "data": {
      "text/plain": [
       "{3, 4, 9, 10, 21, 22}"
      ]
     },
     "execution_count": 57,
     "metadata": {},
     "output_type": "execute_result"
    }
   ],
   "source": [
    "set(my_list_to_be_set)"
   ]
  },
  {
   "cell_type": "code",
   "execution_count": 58,
   "id": "ae31f3e1-6b00-4f1b-b737-715e3ed1ae35",
   "metadata": {},
   "outputs": [],
   "source": [
    "# 10) Asagidaki ifadenin sonucu ne olacaktir?"
   ]
  },
  {
   "cell_type": "code",
   "execution_count": 59,
   "id": "bdd52acc-b4eb-4d3d-92f6-4c4d423e45d9",
   "metadata": {},
   "outputs": [],
   "source": [
    "x = 30 * 5 + 3"
   ]
  },
  {
   "cell_type": "code",
   "execution_count": 60,
   "id": "c83719a6-1403-49c7-8dc0-bb24f71f9016",
   "metadata": {},
   "outputs": [],
   "source": [
    "y = 108 - 2 * 4"
   ]
  },
  {
   "cell_type": "code",
   "execution_count": 61,
   "id": "e9d351df-6811-470c-a408-d753d2485f51",
   "metadata": {},
   "outputs": [
    {
     "data": {
      "text/plain": [
       "True"
      ]
     },
     "execution_count": 61,
     "metadata": {},
     "output_type": "execute_result"
    }
   ],
   "source": [
    "x > y\n",
    "#true"
   ]
  }
 ],
 "metadata": {
  "kernelspec": {
   "display_name": "Python 3 (ipykernel)",
   "language": "python",
   "name": "python3"
  },
  "language_info": {
   "codemirror_mode": {
    "name": "ipython",
    "version": 3
   },
   "file_extension": ".py",
   "mimetype": "text/x-python",
   "name": "python",
   "nbconvert_exporter": "python",
   "pygments_lexer": "ipython3",
   "version": "3.12.7"
  }
 },
 "nbformat": 4,
 "nbformat_minor": 5
}
