{
 "cells": [
  {
   "cell_type": "code",
   "execution_count": 1,
   "id": "daf48599-e447-46b7-a064-68cc5d4b70fa",
   "metadata": {},
   "outputs": [],
   "source": [
    "myString = \"Hello Python\""
   ]
  },
  {
   "cell_type": "code",
   "execution_count": 2,
   "id": "fc84347c-d13d-447c-ad28-362fa3b1dc54",
   "metadata": {},
   "outputs": [
    {
     "data": {
      "text/plain": [
       "'Hello Python'"
      ]
     },
     "execution_count": 2,
     "metadata": {},
     "output_type": "execute_result"
    }
   ],
   "source": [
    "myString"
   ]
  },
  {
   "cell_type": "code",
   "execution_count": 3,
   "id": "adb2d656-edf8-455a-9af8-29957fa9d3d3",
   "metadata": {},
   "outputs": [
    {
     "data": {
      "text/plain": [
       "list"
      ]
     },
     "execution_count": 3,
     "metadata": {},
     "output_type": "execute_result"
    }
   ],
   "source": [
    "type(myString.split())"
   ]
  },
  {
   "cell_type": "code",
   "execution_count": 4,
   "id": "8e7458d4-a484-4656-b03d-5e87e1feb12a",
   "metadata": {},
   "outputs": [],
   "source": [
    "#list"
   ]
  },
  {
   "cell_type": "code",
   "execution_count": 5,
   "id": "4c0c7bd0-faed-4f1d-96d1-5aa9469f638b",
   "metadata": {},
   "outputs": [
    {
     "data": {
      "text/plain": [
       "'H'"
      ]
     },
     "execution_count": 5,
     "metadata": {},
     "output_type": "execute_result"
    }
   ],
   "source": [
    "myString[0]"
   ]
  },
  {
   "cell_type": "code",
   "execution_count": 6,
   "id": "e45e98c3-bdc4-4665-aa6f-6e53626be6c8",
   "metadata": {},
   "outputs": [],
   "source": [
    "#myString[0] = \"a\"\n",
    "#immutable - immutability (değiştirilemezlik)"
   ]
  },
  {
   "cell_type": "code",
   "execution_count": 7,
   "id": "b7868d36-2a7f-4a47-b486-0220801dc3bb",
   "metadata": {},
   "outputs": [],
   "source": [
    "myString = \"Baha\""
   ]
  },
  {
   "cell_type": "code",
   "execution_count": 8,
   "id": "7f3400cb-c123-4539-86f5-b98ef3f3c184",
   "metadata": {},
   "outputs": [
    {
     "data": {
      "text/plain": [
       "'Baha'"
      ]
     },
     "execution_count": 8,
     "metadata": {},
     "output_type": "execute_result"
    }
   ],
   "source": [
    "myString"
   ]
  },
  {
   "cell_type": "code",
   "execution_count": 9,
   "id": "a89b99b1-a9ed-4d4a-bf82-309988835cb0",
   "metadata": {},
   "outputs": [],
   "source": [
    "myList = [10,20,30];"
   ]
  },
  {
   "cell_type": "code",
   "execution_count": 10,
   "id": "338d630f-fde1-4846-9809-f6b7391b8a8e",
   "metadata": {},
   "outputs": [
    {
     "data": {
      "text/plain": [
       "list"
      ]
     },
     "execution_count": 10,
     "metadata": {},
     "output_type": "execute_result"
    }
   ],
   "source": [
    "type(myList)"
   ]
  },
  {
   "cell_type": "code",
   "execution_count": 11,
   "id": "0e1583d8-4b24-4d98-b2fb-63abc063352c",
   "metadata": {},
   "outputs": [],
   "source": [
    "x = 10\n",
    "y = 20 \n",
    "z = 30"
   ]
  },
  {
   "cell_type": "code",
   "execution_count": 13,
   "id": "00921dfc-0443-4ca7-b978-9aa70bcb8828",
   "metadata": {},
   "outputs": [],
   "source": [
    "myList = [x,y,z]"
   ]
  },
  {
   "cell_type": "code",
   "execution_count": 14,
   "id": "ba0341fd-0da1-4592-aed1-daf3760660f9",
   "metadata": {},
   "outputs": [
    {
     "data": {
      "text/plain": [
       "[10, 20, 30]"
      ]
     },
     "execution_count": 14,
     "metadata": {},
     "output_type": "execute_result"
    }
   ],
   "source": [
    "myList"
   ]
  },
  {
   "cell_type": "code",
   "execution_count": 16,
   "id": "c6fce00a-d5cc-4b5d-b5fe-7da51d3f7ab5",
   "metadata": {},
   "outputs": [],
   "source": [
    "myList = [10,20,30,40,50,60,70]"
   ]
  },
  {
   "cell_type": "code",
   "execution_count": 17,
   "id": "71204ca5-f204-47d0-9660-eac5fc910c8d",
   "metadata": {},
   "outputs": [
    {
     "data": {
      "text/plain": [
       "10"
      ]
     },
     "execution_count": 17,
     "metadata": {},
     "output_type": "execute_result"
    }
   ],
   "source": [
    "myList[0]"
   ]
  },
  {
   "cell_type": "code",
   "execution_count": 18,
   "id": "34b01929-0703-4503-9110-ca5c55fc7a53",
   "metadata": {},
   "outputs": [
    {
     "data": {
      "text/plain": [
       "list"
      ]
     },
     "execution_count": 18,
     "metadata": {},
     "output_type": "execute_result"
    }
   ],
   "source": [
    "type(myList)"
   ]
  },
  {
   "cell_type": "code",
   "execution_count": 19,
   "id": "e44202ad-c897-4cf0-81d9-e36532021196",
   "metadata": {},
   "outputs": [
    {
     "data": {
      "text/plain": [
       "int"
      ]
     },
     "execution_count": 19,
     "metadata": {},
     "output_type": "execute_result"
    }
   ],
   "source": [
    "type(myList[0])"
   ]
  },
  {
   "cell_type": "code",
   "execution_count": 20,
   "id": "0acd6f2d-478b-4274-a6bf-a63d0ace471b",
   "metadata": {},
   "outputs": [],
   "source": [
    "myList[0] = 100"
   ]
  },
  {
   "cell_type": "code",
   "execution_count": 21,
   "id": "c9758581-2cd8-4902-931a-d9299c2297f3",
   "metadata": {},
   "outputs": [
    {
     "data": {
      "text/plain": [
       "[100, 20, 30, 40, 50, 60, 70]"
      ]
     },
     "execution_count": 21,
     "metadata": {},
     "output_type": "execute_result"
    }
   ],
   "source": [
    "myList"
   ]
  },
  {
   "cell_type": "code",
   "execution_count": 22,
   "id": "a4e5e726-b35a-4901-89f7-af0d782b1d85",
   "metadata": {},
   "outputs": [
    {
     "data": {
      "text/plain": [
       "7"
      ]
     },
     "execution_count": 22,
     "metadata": {},
     "output_type": "execute_result"
    }
   ],
   "source": [
    "len(myList)"
   ]
  },
  {
   "cell_type": "code",
   "execution_count": 23,
   "id": "04794866-1d68-41da-9eaa-b872b643fdfc",
   "metadata": {},
   "outputs": [
    {
     "data": {
      "text/plain": [
       "70"
      ]
     },
     "execution_count": 23,
     "metadata": {},
     "output_type": "execute_result"
    }
   ],
   "source": [
    "myList[len(myList)-1]"
   ]
  },
  {
   "cell_type": "code",
   "execution_count": 24,
   "id": "2547a4f6-fd24-4182-9149-1c6faa8ffa9a",
   "metadata": {},
   "outputs": [
    {
     "data": {
      "text/plain": [
       "70"
      ]
     },
     "execution_count": 24,
     "metadata": {},
     "output_type": "execute_result"
    }
   ],
   "source": [
    "myList[-1]"
   ]
  },
  {
   "cell_type": "code",
   "execution_count": 25,
   "id": "78af3f30-8daa-446e-9725-25ce6d478134",
   "metadata": {},
   "outputs": [],
   "source": [
    "myList.append(80)"
   ]
  },
  {
   "cell_type": "code",
   "execution_count": 26,
   "id": "83fd0b5a-bfbd-4de9-8dc7-0ab1bfc9c3e6",
   "metadata": {},
   "outputs": [
    {
     "data": {
      "text/plain": [
       "[100, 20, 30, 40, 50, 60, 70, 80]"
      ]
     },
     "execution_count": 26,
     "metadata": {},
     "output_type": "execute_result"
    }
   ],
   "source": [
    "myList"
   ]
  },
  {
   "cell_type": "code",
   "execution_count": 28,
   "id": "9be55a4a-37e5-4964-adb7-6697460e5522",
   "metadata": {},
   "outputs": [
    {
     "data": {
      "text/plain": [
       "1"
      ]
     },
     "execution_count": 28,
     "metadata": {},
     "output_type": "execute_result"
    }
   ],
   "source": [
    "myList.count(20)"
   ]
  },
  {
   "cell_type": "code",
   "execution_count": 29,
   "id": "a84eefa1-0267-427e-911c-f538ad407e13",
   "metadata": {},
   "outputs": [
    {
     "data": {
      "text/plain": [
       "3"
      ]
     },
     "execution_count": 29,
     "metadata": {},
     "output_type": "execute_result"
    }
   ],
   "source": [
    "myList.index(40)"
   ]
  },
  {
   "cell_type": "code",
   "execution_count": 30,
   "id": "49174ecd-1a01-4286-a0ab-dcccb7898b6c",
   "metadata": {},
   "outputs": [],
   "source": [
    "myList.insert(2,35)"
   ]
  },
  {
   "cell_type": "code",
   "execution_count": 31,
   "id": "6f0d2c08-ffe6-4c98-887c-b252cb5d3cf9",
   "metadata": {},
   "outputs": [
    {
     "data": {
      "text/plain": [
       "[100, 20, 35, 30, 40, 50, 60, 70, 80]"
      ]
     },
     "execution_count": 31,
     "metadata": {},
     "output_type": "execute_result"
    }
   ],
   "source": [
    "myList"
   ]
  },
  {
   "cell_type": "code",
   "execution_count": 32,
   "id": "0fc87425-1b46-4ca8-8ccd-05f97722ef98",
   "metadata": {},
   "outputs": [
    {
     "data": {
      "text/plain": [
       "80"
      ]
     },
     "execution_count": 32,
     "metadata": {},
     "output_type": "execute_result"
    }
   ],
   "source": [
    "myList.pop()"
   ]
  },
  {
   "cell_type": "code",
   "execution_count": 33,
   "id": "7ad346b4-5e21-4f42-9f50-069f745311e2",
   "metadata": {},
   "outputs": [
    {
     "data": {
      "text/plain": [
       "[100, 20, 35, 30, 40, 50, 60, 70]"
      ]
     },
     "execution_count": 33,
     "metadata": {},
     "output_type": "execute_result"
    }
   ],
   "source": [
    "myList"
   ]
  },
  {
   "cell_type": "code",
   "execution_count": 36,
   "id": "69fab5a4-7b95-493d-b117-4631ca9e6cf5",
   "metadata": {},
   "outputs": [],
   "source": [
    "myList.reverse()"
   ]
  },
  {
   "cell_type": "code",
   "execution_count": 37,
   "id": "aa5159dc-e989-4d5a-bbc5-9e88bbc835fc",
   "metadata": {},
   "outputs": [
    {
     "data": {
      "text/plain": [
       "[100, 20, 35, 30, 40, 50, 60, 70]"
      ]
     },
     "execution_count": 37,
     "metadata": {},
     "output_type": "execute_result"
    }
   ],
   "source": [
    "myList\n"
   ]
  },
  {
   "cell_type": "code",
   "execution_count": 38,
   "id": "cf37aa4c-ad9e-4189-b6a0-57e976e3967b",
   "metadata": {},
   "outputs": [],
   "source": [
    "myList.sort()"
   ]
  },
  {
   "cell_type": "code",
   "execution_count": 39,
   "id": "9ea0d6b0-f696-4e62-90b3-b662a688d570",
   "metadata": {},
   "outputs": [
    {
     "data": {
      "text/plain": [
       "[20, 30, 35, 40, 50, 60, 70, 100]"
      ]
     },
     "execution_count": 39,
     "metadata": {},
     "output_type": "execute_result"
    }
   ],
   "source": [
    "myList"
   ]
  },
  {
   "cell_type": "code",
   "execution_count": 40,
   "id": "90dcbee6-d49c-4ddb-8dd8-c89994017a1f",
   "metadata": {},
   "outputs": [
    {
     "name": "stdin",
     "output_type": "stream",
     "text": [
      "enter x 10\n"
     ]
    }
   ],
   "source": [
    "x = input(\"enter x\")"
   ]
  },
  {
   "cell_type": "code",
   "execution_count": 41,
   "id": "389ccb0c-ec08-44c2-bdc5-e60b8b3d9e51",
   "metadata": {},
   "outputs": [
    {
     "data": {
      "text/plain": [
       "'10'"
      ]
     },
     "execution_count": 41,
     "metadata": {},
     "output_type": "execute_result"
    }
   ],
   "source": [
    "x"
   ]
  },
  {
   "cell_type": "code",
   "execution_count": 42,
   "id": "141aaaad-8bca-4060-a32a-dce2dca62f1d",
   "metadata": {},
   "outputs": [
    {
     "data": {
      "text/plain": [
       "str"
      ]
     },
     "execution_count": 42,
     "metadata": {},
     "output_type": "execute_result"
    }
   ],
   "source": [
    "type(x)"
   ]
  },
  {
   "cell_type": "code",
   "execution_count": 43,
   "id": "63cc0789-29f8-4db7-9409-2cea449e03e7",
   "metadata": {},
   "outputs": [
    {
     "name": "stdin",
     "output_type": "stream",
     "text": [
      "enter y 20\n"
     ]
    }
   ],
   "source": [
    "y = input(\"enter y\")"
   ]
  },
  {
   "cell_type": "code",
   "execution_count": 44,
   "id": "38632dda-fff5-418a-99a9-5ce19421499d",
   "metadata": {},
   "outputs": [
    {
     "name": "stdin",
     "output_type": "stream",
     "text": [
      "enter z 30\n"
     ]
    }
   ],
   "source": [
    "z = input(\"enter z\")"
   ]
  },
  {
   "cell_type": "code",
   "execution_count": 45,
   "id": "0a5e95d6-1fe0-422b-b4ca-f142ee175ee5",
   "metadata": {},
   "outputs": [],
   "source": [
    "inputList = []"
   ]
  },
  {
   "cell_type": "code",
   "execution_count": 46,
   "id": "ebe51f2b-dd56-4e97-91c6-098dcb764b0d",
   "metadata": {},
   "outputs": [
    {
     "data": {
      "text/plain": [
       "list"
      ]
     },
     "execution_count": 46,
     "metadata": {},
     "output_type": "execute_result"
    }
   ],
   "source": [
    "type(inputList)"
   ]
  },
  {
   "cell_type": "code",
   "execution_count": 47,
   "id": "c47b4aff-9b40-49bf-82dc-0ba87292b282",
   "metadata": {},
   "outputs": [
    {
     "data": {
      "text/plain": [
       "[]"
      ]
     },
     "execution_count": 47,
     "metadata": {},
     "output_type": "execute_result"
    }
   ],
   "source": [
    "inputList"
   ]
  },
  {
   "cell_type": "code",
   "execution_count": 48,
   "id": "e919885e-a1e6-462c-9175-093327c55978",
   "metadata": {},
   "outputs": [
    {
     "data": {
      "text/plain": [
       "0"
      ]
     },
     "execution_count": 48,
     "metadata": {},
     "output_type": "execute_result"
    }
   ],
   "source": [
    "len(inputList)\n"
   ]
  },
  {
   "cell_type": "code",
   "execution_count": 49,
   "id": "22fb3ed2-f1e5-4a8e-81e6-f21a6d6ae804",
   "metadata": {},
   "outputs": [],
   "source": [
    "inputList.append(x)\n",
    "inputList.append(y)\n",
    "inputList.append(z)\n"
   ]
  },
  {
   "cell_type": "code",
   "execution_count": 50,
   "id": "472dad0b-dc43-4f8c-a9f6-ebc48c83a7ab",
   "metadata": {},
   "outputs": [
    {
     "data": {
      "text/plain": [
       "['10', '20', '30']"
      ]
     },
     "execution_count": 50,
     "metadata": {},
     "output_type": "execute_result"
    }
   ],
   "source": [
    "inputList"
   ]
  },
  {
   "cell_type": "code",
   "execution_count": 51,
   "id": "b9cc1f3f-257e-4ca1-8c95-114dddc225b8",
   "metadata": {},
   "outputs": [
    {
     "data": {
      "text/plain": [
       "'20'"
      ]
     },
     "execution_count": 51,
     "metadata": {},
     "output_type": "execute_result"
    }
   ],
   "source": [
    "inputList[1]"
   ]
  },
  {
   "cell_type": "code",
   "execution_count": 52,
   "id": "e2a76f39-3d2c-45a3-bbda-c99e50bbead9",
   "metadata": {},
   "outputs": [
    {
     "data": {
      "text/plain": [
       "'2020'"
      ]
     },
     "execution_count": 52,
     "metadata": {},
     "output_type": "execute_result"
    }
   ],
   "source": [
    "inputList[1] * 2 "
   ]
  },
  {
   "cell_type": "code",
   "execution_count": 53,
   "id": "ff96c18a-46f6-4adf-8b07-9764329f2091",
   "metadata": {},
   "outputs": [],
   "source": [
    "myInteger = 50"
   ]
  },
  {
   "cell_type": "code",
   "execution_count": 54,
   "id": "d6e15cea-b740-43d1-90f0-46981e06b731",
   "metadata": {},
   "outputs": [
    {
     "data": {
      "text/plain": [
       "'50'"
      ]
     },
     "execution_count": 54,
     "metadata": {},
     "output_type": "execute_result"
    }
   ],
   "source": [
    "str(myInteger)"
   ]
  },
  {
   "cell_type": "code",
   "execution_count": 55,
   "id": "f69f08f6-fa81-4c69-98b5-f433354e9b1c",
   "metadata": {},
   "outputs": [],
   "source": [
    "myString = 40 "
   ]
  },
  {
   "cell_type": "code",
   "execution_count": 56,
   "id": "e6da2d9b-af1c-4ab3-9cd8-c60739bc7e43",
   "metadata": {},
   "outputs": [
    {
     "data": {
      "text/plain": [
       "40"
      ]
     },
     "execution_count": 56,
     "metadata": {},
     "output_type": "execute_result"
    }
   ],
   "source": [
    "int(myString)"
   ]
  },
  {
   "cell_type": "code",
   "execution_count": 57,
   "id": "4a353fd5-48f7-4707-a512-ddca0e01914f",
   "metadata": {},
   "outputs": [
    {
     "data": {
      "text/plain": [
       "40.0"
      ]
     },
     "execution_count": 57,
     "metadata": {},
     "output_type": "execute_result"
    }
   ],
   "source": [
    "float(myString)"
   ]
  },
  {
   "cell_type": "code",
   "execution_count": 58,
   "id": "f11bb237-f087-4ca3-82eb-b28beb89b73d",
   "metadata": {},
   "outputs": [
    {
     "data": {
      "text/plain": [
       "['10', '20', '30']"
      ]
     },
     "execution_count": 58,
     "metadata": {},
     "output_type": "execute_result"
    }
   ],
   "source": [
    "inputList"
   ]
  },
  {
   "cell_type": "code",
   "execution_count": 59,
   "id": "e1169d8a-4b1a-4d58-8925-6d7d5093db30",
   "metadata": {},
   "outputs": [
    {
     "data": {
      "text/plain": [
       "2020"
      ]
     },
     "execution_count": 59,
     "metadata": {},
     "output_type": "execute_result"
    }
   ],
   "source": [
    "int(inputList[1]*2)"
   ]
  },
  {
   "cell_type": "code",
   "execution_count": 60,
   "id": "97b4dfb3-3c9e-4519-ac4b-4dd41626615c",
   "metadata": {},
   "outputs": [
    {
     "data": {
      "text/plain": [
       "40"
      ]
     },
     "execution_count": 60,
     "metadata": {},
     "output_type": "execute_result"
    }
   ],
   "source": [
    "int(inputList[1]) * 2"
   ]
  },
  {
   "cell_type": "code",
   "execution_count": 62,
   "id": "5affa063-626b-4ede-a54a-3eac7459ea4e",
   "metadata": {},
   "outputs": [],
   "source": [
    "nameList = [\"baha\",\"furkan\",\"yildizoglu\"]"
   ]
  },
  {
   "cell_type": "code",
   "execution_count": 63,
   "id": "799f873d-b76e-4a44-821c-970c3368154d",
   "metadata": {},
   "outputs": [
    {
     "data": {
      "text/plain": [
       "list"
      ]
     },
     "execution_count": 63,
     "metadata": {},
     "output_type": "execute_result"
    }
   ],
   "source": [
    "type(nameList)"
   ]
  },
  {
   "cell_type": "code",
   "execution_count": 64,
   "id": "8236a300-8e1f-41e1-b469-a1d5cd6b80f3",
   "metadata": {},
   "outputs": [],
   "source": [
    "floatList = [3.14,5.1,6.24]"
   ]
  },
  {
   "cell_type": "code",
   "execution_count": 65,
   "id": "9602ad14-535e-4522-a126-51ed665b5106",
   "metadata": {},
   "outputs": [
    {
     "data": {
      "text/plain": [
       "list"
      ]
     },
     "execution_count": 65,
     "metadata": {},
     "output_type": "execute_result"
    }
   ],
   "source": [
    "type(floatList)"
   ]
  },
  {
   "cell_type": "code",
   "execution_count": 66,
   "id": "cc24cbfd-3e13-4fac-b890-c0b9033ae4f0",
   "metadata": {},
   "outputs": [],
   "source": [
    "mixedList = [\"Baha\" , 100 , 3.14]"
   ]
  },
  {
   "cell_type": "code",
   "execution_count": 67,
   "id": "1199bcda-b7aa-4624-aeb8-2d5c5a2ecfa1",
   "metadata": {},
   "outputs": [
    {
     "data": {
      "text/plain": [
       "list"
      ]
     },
     "execution_count": 67,
     "metadata": {},
     "output_type": "execute_result"
    }
   ],
   "source": [
    "type(mixedList)"
   ]
  },
  {
   "cell_type": "code",
   "execution_count": 68,
   "id": "7866c6f0-0d66-4bf3-ba0a-ff5c06cce143",
   "metadata": {},
   "outputs": [],
   "source": [
    "list1 = [10,20,30]\n",
    "list2 = [40,50,60]"
   ]
  },
  {
   "cell_type": "code",
   "execution_count": 70,
   "id": "30369e0e-cee8-415c-9bc5-f4ac4e2bbbb2",
   "metadata": {},
   "outputs": [
    {
     "data": {
      "text/plain": [
       "[10, 20, 30, 40, 50, 60]"
      ]
     },
     "execution_count": 70,
     "metadata": {},
     "output_type": "execute_result"
    }
   ],
   "source": [
    "list1 + list2"
   ]
  },
  {
   "cell_type": "code",
   "execution_count": 71,
   "id": "b56908fa-c237-4646-9404-29bd9db08d17",
   "metadata": {},
   "outputs": [
    {
     "data": {
      "text/plain": [
       "[10, 20, 30, 10, 20, 30]"
      ]
     },
     "execution_count": 71,
     "metadata": {},
     "output_type": "execute_result"
    }
   ],
   "source": [
    "list1 * 2 "
   ]
  },
  {
   "cell_type": "code",
   "execution_count": 72,
   "id": "2e30d1b2-8c0b-4390-91bc-9b0011c9c3f2",
   "metadata": {},
   "outputs": [
    {
     "data": {
      "text/plain": [
       "['Baha', 100, 3.14]"
      ]
     },
     "execution_count": 72,
     "metadata": {},
     "output_type": "execute_result"
    }
   ],
   "source": [
    "mixedList"
   ]
  },
  {
   "cell_type": "code",
   "execution_count": 73,
   "id": "42391483-379b-4d79-828b-d01c434ec8fa",
   "metadata": {},
   "outputs": [],
   "source": [
    "#nestedList\n"
   ]
  },
  {
   "cell_type": "code",
   "execution_count": 74,
   "id": "769e33c8-d208-4b53-b19c-3a0a5cf38a55",
   "metadata": {},
   "outputs": [],
   "source": [
    "myNestedList = [10, 20, 3.14 , \"Baha\" , [1,2,3]]"
   ]
  },
  {
   "cell_type": "code",
   "execution_count": 75,
   "id": "450ebde6-47db-4292-8710-313fda893984",
   "metadata": {},
   "outputs": [
    {
     "data": {
      "text/plain": [
       "10"
      ]
     },
     "execution_count": 75,
     "metadata": {},
     "output_type": "execute_result"
    }
   ],
   "source": [
    "myNestedList[0]"
   ]
  },
  {
   "cell_type": "code",
   "execution_count": 77,
   "id": "eb7c3324-bd5e-4468-8b26-b440a0892758",
   "metadata": {},
   "outputs": [
    {
     "data": {
      "text/plain": [
       "20"
      ]
     },
     "execution_count": 77,
     "metadata": {},
     "output_type": "execute_result"
    }
   ],
   "source": [
    "myNestedList[1]\n"
   ]
  },
  {
   "cell_type": "code",
   "execution_count": 78,
   "id": "7264639d-7b4a-46a1-9123-ef632ca76a6e",
   "metadata": {},
   "outputs": [
    {
     "data": {
      "text/plain": [
       "3.14"
      ]
     },
     "execution_count": 78,
     "metadata": {},
     "output_type": "execute_result"
    }
   ],
   "source": [
    "myNestedList[2]"
   ]
  },
  {
   "cell_type": "code",
   "execution_count": 79,
   "id": "f959bf4f-ede8-4f73-8d43-3d51870c0035",
   "metadata": {},
   "outputs": [
    {
     "data": {
      "text/plain": [
       "'Baha'"
      ]
     },
     "execution_count": 79,
     "metadata": {},
     "output_type": "execute_result"
    }
   ],
   "source": [
    "myNestedList[3]"
   ]
  },
  {
   "cell_type": "code",
   "execution_count": 80,
   "id": "0bf15cde-3f93-462b-b49f-ddc1a39f7fcd",
   "metadata": {},
   "outputs": [
    {
     "data": {
      "text/plain": [
       "[1, 2, 3]"
      ]
     },
     "execution_count": 80,
     "metadata": {},
     "output_type": "execute_result"
    }
   ],
   "source": [
    "myNestedList[4]"
   ]
  },
  {
   "cell_type": "code",
   "execution_count": 81,
   "id": "181d4bd3-fcd1-4711-b760-d57d69775dca",
   "metadata": {},
   "outputs": [],
   "source": [
    "smallList = myNestedList[4]"
   ]
  },
  {
   "cell_type": "code",
   "execution_count": 82,
   "id": "762b50e1-906a-4e6c-9cdb-694353592fc8",
   "metadata": {},
   "outputs": [
    {
     "data": {
      "text/plain": [
       "[1, 2, 3]"
      ]
     },
     "execution_count": 82,
     "metadata": {},
     "output_type": "execute_result"
    }
   ],
   "source": [
    "smallList"
   ]
  },
  {
   "cell_type": "code",
   "execution_count": 83,
   "id": "341652a7-35b0-4a0d-b55d-0d86908e6b8c",
   "metadata": {},
   "outputs": [
    {
     "data": {
      "text/plain": [
       "2"
      ]
     },
     "execution_count": 83,
     "metadata": {},
     "output_type": "execute_result"
    }
   ],
   "source": [
    "smallList[1]"
   ]
  },
  {
   "cell_type": "code",
   "execution_count": 84,
   "id": "b0f19de8-feab-434c-b82c-7068a02d3e59",
   "metadata": {},
   "outputs": [
    {
     "data": {
      "text/plain": [
       "2"
      ]
     },
     "execution_count": 84,
     "metadata": {},
     "output_type": "execute_result"
    }
   ],
   "source": [
    "myNestedList[4][1]"
   ]
  },
  {
   "cell_type": "code",
   "execution_count": null,
   "id": "0104b75c-6ab1-4732-a3e9-b784e2b39b60",
   "metadata": {},
   "outputs": [],
   "source": []
  }
 ],
 "metadata": {
  "kernelspec": {
   "display_name": "Python 3 (ipykernel)",
   "language": "python",
   "name": "python3"
  },
  "language_info": {
   "codemirror_mode": {
    "name": "ipython",
    "version": 3
   },
   "file_extension": ".py",
   "mimetype": "text/x-python",
   "name": "python",
   "nbconvert_exporter": "python",
   "pygments_lexer": "ipython3",
   "version": "3.12.7"
  }
 },
 "nbformat": 4,
 "nbformat_minor": 5
}
