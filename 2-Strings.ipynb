{
 "cells": [
  {
   "cell_type": "code",
   "execution_count": 1,
   "id": "7e840288-5253-4ba5-a508-a080cc0f4f2e",
   "metadata": {},
   "outputs": [
    {
     "data": {
      "text/plain": [
       "'Hello World'"
      ]
     },
     "execution_count": 1,
     "metadata": {},
     "output_type": "execute_result"
    }
   ],
   "source": [
    "\"Hello World\""
   ]
  },
  {
   "cell_type": "code",
   "execution_count": 2,
   "id": "e14ce697-bc67-4b29-972a-c8d854d230a6",
   "metadata": {},
   "outputs": [
    {
     "name": "stdout",
     "output_type": "stream",
     "text": [
      "Hello python\n"
     ]
    }
   ],
   "source": [
    "print(\"Hello python\")\n"
   ]
  },
  {
   "cell_type": "code",
   "execution_count": 3,
   "id": "1481d1c9-33b3-4aaf-9411-dd91644433a9",
   "metadata": {},
   "outputs": [],
   "source": [
    "name = \"baha\""
   ]
  },
  {
   "cell_type": "code",
   "execution_count": 4,
   "id": "81a48203-f26b-49bc-9c24-8b448d8ca6ef",
   "metadata": {},
   "outputs": [
    {
     "data": {
      "text/plain": [
       "str"
      ]
     },
     "execution_count": 4,
     "metadata": {},
     "output_type": "execute_result"
    }
   ],
   "source": [
    "type(name)"
   ]
  },
  {
   "cell_type": "code",
   "execution_count": 6,
   "id": "643e5725-98be-43b3-8993-fe92ff61454e",
   "metadata": {},
   "outputs": [
    {
     "data": {
      "text/plain": [
       "'Baha'"
      ]
     },
     "execution_count": 6,
     "metadata": {},
     "output_type": "execute_result"
    }
   ],
   "source": [
    "'Baha'"
   ]
  },
  {
   "cell_type": "code",
   "execution_count": 7,
   "id": "e1da4acb-e5fe-4f33-a464-ac2fe6dc77e4",
   "metadata": {},
   "outputs": [],
   "source": [
    "name = \"Baha Furkan Yildizoglu\""
   ]
  },
  {
   "cell_type": "code",
   "execution_count": 8,
   "id": "f7dbed5c-8c41-4785-b576-88b981e6ce69",
   "metadata": {},
   "outputs": [
    {
     "data": {
      "text/plain": [
       "'Baha furkan yildizoglu'"
      ]
     },
     "execution_count": 8,
     "metadata": {},
     "output_type": "execute_result"
    }
   ],
   "source": [
    "name.capitalize()"
   ]
  },
  {
   "cell_type": "code",
   "execution_count": 9,
   "id": "7b205bb1-69f2-4291-abbb-b3ce0e5f59ce",
   "metadata": {},
   "outputs": [],
   "source": [
    "x = 10"
   ]
  },
  {
   "cell_type": "code",
   "execution_count": 10,
   "id": "51974a4e-bed5-448d-b18f-d724c29c5cc0",
   "metadata": {},
   "outputs": [
    {
     "data": {
      "text/plain": [
       "3"
      ]
     },
     "execution_count": 10,
     "metadata": {},
     "output_type": "execute_result"
    }
   ],
   "source": [
    "name.count(\"a\")"
   ]
  },
  {
   "cell_type": "code",
   "execution_count": 11,
   "id": "e491b682-7a34-4c3e-b53c-207778aaddf1",
   "metadata": {},
   "outputs": [
    {
     "data": {
      "text/plain": [
       "'BAHA FURKAN YILDIZOGLU'"
      ]
     },
     "execution_count": 11,
     "metadata": {},
     "output_type": "execute_result"
    }
   ],
   "source": [
    "name.upper()"
   ]
  },
  {
   "cell_type": "code",
   "execution_count": 12,
   "id": "ea33267c-18a4-42d8-b5a8-450c28690db5",
   "metadata": {},
   "outputs": [
    {
     "data": {
      "text/plain": [
       "22"
      ]
     },
     "execution_count": 12,
     "metadata": {},
     "output_type": "execute_result"
    }
   ],
   "source": [
    "len(name) #length\n"
   ]
  },
  {
   "cell_type": "code",
   "execution_count": 2,
   "id": "363b5f66-dae3-4eaa-813e-a8dd119195b8",
   "metadata": {},
   "outputs": [],
   "source": [
    "# İndex\n"
   ]
  },
  {
   "cell_type": "code",
   "execution_count": 3,
   "id": "6ce53129-729a-4d75-96b6-daee6b44d9eb",
   "metadata": {},
   "outputs": [],
   "source": [
    "myString = \"Hello Python\""
   ]
  },
  {
   "cell_type": "code",
   "execution_count": 4,
   "id": "415a229e-14e8-4a85-8584-a4d2db08cdf0",
   "metadata": {},
   "outputs": [
    {
     "data": {
      "text/plain": [
       "'o'"
      ]
     },
     "execution_count": 4,
     "metadata": {},
     "output_type": "execute_result"
    }
   ],
   "source": [
    "myString[4]"
   ]
  },
  {
   "cell_type": "code",
   "execution_count": 5,
   "id": "e385686d-3fb2-48ea-8762-bd73bb670dfa",
   "metadata": {},
   "outputs": [
    {
     "data": {
      "text/plain": [
       "'P'"
      ]
     },
     "execution_count": 5,
     "metadata": {},
     "output_type": "execute_result"
    }
   ],
   "source": [
    "myString[6]"
   ]
  },
  {
   "cell_type": "code",
   "execution_count": 6,
   "id": "061a7ad3-75a6-4867-b889-3955be2f3578",
   "metadata": {},
   "outputs": [
    {
     "data": {
      "text/plain": [
       "'n'"
      ]
     },
     "execution_count": 6,
     "metadata": {},
     "output_type": "execute_result"
    }
   ],
   "source": [
    "myString[11]"
   ]
  },
  {
   "cell_type": "code",
   "execution_count": 9,
   "id": "75244f8f-b021-4f88-9906-1b3a98f66a17",
   "metadata": {},
   "outputs": [
    {
     "data": {
      "text/plain": [
       "12"
      ]
     },
     "execution_count": 9,
     "metadata": {},
     "output_type": "execute_result"
    }
   ],
   "source": [
    "len(myString)"
   ]
  },
  {
   "cell_type": "code",
   "execution_count": 10,
   "id": "6df73445-9c12-4ed7-af94-ab9c0b5475a4",
   "metadata": {},
   "outputs": [
    {
     "data": {
      "text/plain": [
       "11"
      ]
     },
     "execution_count": 10,
     "metadata": {},
     "output_type": "execute_result"
    }
   ],
   "source": [
    "len(myString)-1"
   ]
  },
  {
   "cell_type": "code",
   "execution_count": 13,
   "id": "912555f7-d125-4f12-a92b-64472c02c04d",
   "metadata": {},
   "outputs": [
    {
     "data": {
      "text/plain": [
       "'n'"
      ]
     },
     "execution_count": 13,
     "metadata": {},
     "output_type": "execute_result"
    }
   ],
   "source": [
    "myString[len(myString)-1]"
   ]
  },
  {
   "cell_type": "code",
   "execution_count": 14,
   "id": "c5f3af21-eca4-4cbf-a855-35b825857ad2",
   "metadata": {},
   "outputs": [
    {
     "data": {
      "text/plain": [
       "'n'"
      ]
     },
     "execution_count": 14,
     "metadata": {},
     "output_type": "execute_result"
    }
   ],
   "source": [
    "myString[-1]"
   ]
  },
  {
   "cell_type": "code",
   "execution_count": 16,
   "id": "639b4e17-32d3-4d8f-bfe4-ac66a67a8ae5",
   "metadata": {},
   "outputs": [
    {
     "data": {
      "text/plain": [
       "'o'"
      ]
     },
     "execution_count": 16,
     "metadata": {},
     "output_type": "execute_result"
    }
   ],
   "source": [
    "myString[-2]"
   ]
  },
  {
   "cell_type": "code",
   "execution_count": 17,
   "id": "312c0ec7-504b-4fe8-b6f8-c3d9bd3c4e9e",
   "metadata": {},
   "outputs": [],
   "source": [
    "barcode = \"ABCDE123123982\""
   ]
  },
  {
   "cell_type": "code",
   "execution_count": null,
   "id": "f5dbc507-6700-43e7-a770-e58a50e0e686",
   "metadata": {},
   "outputs": [],
   "source": [
    "\n"
   ]
  },
  {
   "cell_type": "code",
   "execution_count": 18,
   "id": "402ab488-9a96-4bc8-8194-99a8b0be9ab5",
   "metadata": {},
   "outputs": [
    {
     "data": {
      "text/plain": [
       "'A'"
      ]
     },
     "execution_count": 18,
     "metadata": {},
     "output_type": "execute_result"
    }
   ],
   "source": [
    "barcode[0]"
   ]
  },
  {
   "cell_type": "code",
   "execution_count": 19,
   "id": "6bb78f7d-2d95-4e20-beb6-4e4895b06ebd",
   "metadata": {},
   "outputs": [
    {
     "data": {
      "text/plain": [
       "'B'"
      ]
     },
     "execution_count": 19,
     "metadata": {},
     "output_type": "execute_result"
    }
   ],
   "source": [
    "barcode[1]"
   ]
  },
  {
   "cell_type": "code",
   "execution_count": 20,
   "id": "b3b8ac39-8833-4e66-b981-3da893f1d3bf",
   "metadata": {},
   "outputs": [
    {
     "data": {
      "text/plain": [
       "'C'"
      ]
     },
     "execution_count": 20,
     "metadata": {},
     "output_type": "execute_result"
    }
   ],
   "source": [
    "barcode[2]"
   ]
  },
  {
   "cell_type": "code",
   "execution_count": 21,
   "id": "38339b5f-d2d3-4a33-9e7e-447f96464de0",
   "metadata": {},
   "outputs": [
    {
     "data": {
      "text/plain": [
       "'AB'"
      ]
     },
     "execution_count": 21,
     "metadata": {},
     "output_type": "execute_result"
    }
   ],
   "source": [
    "\"A\" + \"B\""
   ]
  },
  {
   "cell_type": "code",
   "execution_count": 22,
   "id": "54110a9d-be2b-4d72-a868-f14d0296821d",
   "metadata": {},
   "outputs": [],
   "source": [
    "name = \"Baha\""
   ]
  },
  {
   "cell_type": "code",
   "execution_count": 26,
   "id": "879e1c43-3d59-4be4-9415-896e9b32c1d7",
   "metadata": {},
   "outputs": [],
   "source": [
    "surName = \"Yildizoglu\""
   ]
  },
  {
   "cell_type": "code",
   "execution_count": 28,
   "id": "61d1bc6c-4dab-4aa9-a9d2-3a527ee1f454",
   "metadata": {},
   "outputs": [],
   "source": [
    "fullName = name + surName"
   ]
  },
  {
   "cell_type": "code",
   "execution_count": 29,
   "id": "9304d7f6-f144-43f5-ab20-099998d5324e",
   "metadata": {},
   "outputs": [
    {
     "data": {
      "text/plain": [
       "'BahaYildizoglu'"
      ]
     },
     "execution_count": 29,
     "metadata": {},
     "output_type": "execute_result"
    }
   ],
   "source": [
    "fullName"
   ]
  },
  {
   "cell_type": "code",
   "execution_count": 30,
   "id": "7e10de5d-3395-4144-87ff-5cf78777b24a",
   "metadata": {},
   "outputs": [],
   "source": [
    "fullName = name + \" \" + surName"
   ]
  },
  {
   "cell_type": "code",
   "execution_count": 31,
   "id": "0d1eb68f-0459-451b-96b7-cfa9970878fd",
   "metadata": {},
   "outputs": [
    {
     "data": {
      "text/plain": [
       "'Baha Yildizoglu'"
      ]
     },
     "execution_count": 31,
     "metadata": {},
     "output_type": "execute_result"
    }
   ],
   "source": [
    "fullName"
   ]
  },
  {
   "cell_type": "code",
   "execution_count": 32,
   "id": "4db7588f-d9bf-4fd4-849f-db04489db775",
   "metadata": {},
   "outputs": [
    {
     "data": {
      "text/plain": [
       "'Baha YildizogluBaha YildizogluBaha YildizogluBaha YildizogluBaha Yildizoglu'"
      ]
     },
     "execution_count": 32,
     "metadata": {},
     "output_type": "execute_result"
    }
   ],
   "source": [
    "fullName * 5 "
   ]
  },
  {
   "cell_type": "code",
   "execution_count": 33,
   "id": "385d3583-9a24-48d6-929b-3280b372c503",
   "metadata": {},
   "outputs": [
    {
     "data": {
      "text/plain": [
       "'ABCDE123123982'"
      ]
     },
     "execution_count": 33,
     "metadata": {},
     "output_type": "execute_result"
    }
   ],
   "source": [
    "barcode"
   ]
  },
  {
   "cell_type": "code",
   "execution_count": 34,
   "id": "c6add104-3ca4-4f3b-9ff0-01d3584ed345",
   "metadata": {},
   "outputs": [
    {
     "data": {
      "text/plain": [
       "'ABC'"
      ]
     },
     "execution_count": 34,
     "metadata": {},
     "output_type": "execute_result"
    }
   ],
   "source": [
    "barcode[0] + barcode[1] + barcode[2] "
   ]
  },
  {
   "cell_type": "code",
   "execution_count": 35,
   "id": "ee574962-619d-4e2c-ba8c-37f9351d21b2",
   "metadata": {},
   "outputs": [],
   "source": [
    "#slicing , starting index , stopping index , stepping index"
   ]
  },
  {
   "cell_type": "code",
   "execution_count": 36,
   "id": "9438444a-d487-48d8-8c2e-2a8446d79af2",
   "metadata": {},
   "outputs": [
    {
     "data": {
      "text/plain": [
       "'ABCDE123123982'"
      ]
     },
     "execution_count": 36,
     "metadata": {},
     "output_type": "execute_result"
    }
   ],
   "source": [
    "barcode"
   ]
  },
  {
   "cell_type": "code",
   "execution_count": 37,
   "id": "90de89ec-df44-4240-a09d-24fd3ef1d742",
   "metadata": {},
   "outputs": [
    {
     "data": {
      "text/plain": [
       "'ABCDE123123982'"
      ]
     },
     "execution_count": 37,
     "metadata": {},
     "output_type": "execute_result"
    }
   ],
   "source": [
    "barcode[::]"
   ]
  },
  {
   "cell_type": "code",
   "execution_count": 38,
   "id": "799ac2b1-4e1f-4775-bee0-6365fc9c1375",
   "metadata": {},
   "outputs": [],
   "source": [
    "# barcode[starting index : stopping index : stepping index ] "
   ]
  },
  {
   "cell_type": "code",
   "execution_count": 39,
   "id": "6020ef4e-8aab-4fad-a24a-33ec43d1b3a9",
   "metadata": {},
   "outputs": [
    {
     "data": {
      "text/plain": [
       "'DE123123982'"
      ]
     },
     "execution_count": 39,
     "metadata": {},
     "output_type": "execute_result"
    }
   ],
   "source": [
    "barcode[3::]"
   ]
  },
  {
   "cell_type": "code",
   "execution_count": 40,
   "id": "ba3c4c3c-87d8-4dc3-ae69-a8f6752cd451",
   "metadata": {},
   "outputs": [
    {
     "data": {
      "text/plain": [
       "'ABC'"
      ]
     },
     "execution_count": 40,
     "metadata": {},
     "output_type": "execute_result"
    }
   ],
   "source": [
    "barcode[:3:]"
   ]
  },
  {
   "cell_type": "code",
   "execution_count": 41,
   "id": "66651629-edca-4e2b-a764-c78cd319d5db",
   "metadata": {},
   "outputs": [
    {
     "data": {
      "text/plain": [
       "'AD228'"
      ]
     },
     "execution_count": 41,
     "metadata": {},
     "output_type": "execute_result"
    }
   ],
   "source": [
    "barcode[::3]"
   ]
  },
  {
   "cell_type": "code",
   "execution_count": 42,
   "id": "b79bd84a-68d0-4bd8-b466-afeaed4d27f9",
   "metadata": {},
   "outputs": [
    {
     "data": {
      "text/plain": [
       "'ABCDE123123982'"
      ]
     },
     "execution_count": 42,
     "metadata": {},
     "output_type": "execute_result"
    }
   ],
   "source": [
    "barcode[::]"
   ]
  },
  {
   "cell_type": "code",
   "execution_count": 43,
   "id": "16eeb6f5-0235-4e83-83ca-48a1731086c8",
   "metadata": {},
   "outputs": [
    {
     "data": {
      "text/plain": [
       "'DE'"
      ]
     },
     "execution_count": 43,
     "metadata": {},
     "output_type": "execute_result"
    }
   ],
   "source": [
    "barcode[3:5:]"
   ]
  },
  {
   "cell_type": "code",
   "execution_count": 44,
   "id": "d72d3ad5-b852-4ba2-b275-4f4a6b41ccf4",
   "metadata": {},
   "outputs": [
    {
     "data": {
      "text/plain": [
       "'DE'"
      ]
     },
     "execution_count": 44,
     "metadata": {},
     "output_type": "execute_result"
    }
   ],
   "source": [
    "barcode[3:5\n",
    "]"
   ]
  },
  {
   "cell_type": "code",
   "execution_count": 45,
   "id": "4ab756ea-3528-4c8a-bbab-659c6a76ebac",
   "metadata": {},
   "outputs": [
    {
     "data": {
      "text/plain": [
       "'BD13'"
      ]
     },
     "execution_count": 45,
     "metadata": {},
     "output_type": "execute_result"
    }
   ],
   "source": [
    "barcode[1:9:2]"
   ]
  },
  {
   "cell_type": "code",
   "execution_count": 46,
   "id": "6748421f-99c7-40d9-bb4d-f7e6537b30cd",
   "metadata": {},
   "outputs": [
    {
     "data": {
      "text/plain": [
       "'289321321EDCBA'"
      ]
     },
     "execution_count": 46,
     "metadata": {},
     "output_type": "execute_result"
    }
   ],
   "source": [
    "barcode[::-1]"
   ]
  },
  {
   "cell_type": "code",
   "execution_count": 47,
   "id": "4d5256f9-a433-4db8-a455-c9cdc9c8972a",
   "metadata": {},
   "outputs": [],
   "source": [
    "name = \"Baha Furkan Yildizoglu\""
   ]
  },
  {
   "cell_type": "code",
   "execution_count": 50,
   "id": "67b64e2c-503d-4b0b-a39e-091769380409",
   "metadata": {},
   "outputs": [
    {
     "data": {
      "text/plain": [
       "5"
      ]
     },
     "execution_count": 50,
     "metadata": {},
     "output_type": "execute_result"
    }
   ],
   "source": [
    "name.index(\"F\")"
   ]
  },
  {
   "cell_type": "code",
   "execution_count": 51,
   "id": "ba9fd80b-6ec4-48b9-8c76-24e1561f7d62",
   "metadata": {},
   "outputs": [
    {
     "data": {
      "text/plain": [
       "['Baha', 'Furkan', 'Yildizoglu']"
      ]
     },
     "execution_count": 51,
     "metadata": {},
     "output_type": "execute_result"
    }
   ],
   "source": [
    "name.split()"
   ]
  },
  {
   "cell_type": "code",
   "execution_count": 52,
   "id": "8941728b-2f03-481c-8110-11bdf6fb1aa9",
   "metadata": {},
   "outputs": [
    {
     "data": {
      "text/plain": [
       "list"
      ]
     },
     "execution_count": 52,
     "metadata": {},
     "output_type": "execute_result"
    }
   ],
   "source": [
    "type(name.split())"
   ]
  }
 ],
 "metadata": {
  "kernelspec": {
   "display_name": "Python 3 (ipykernel)",
   "language": "python",
   "name": "python3"
  },
  "language_info": {
   "codemirror_mode": {
    "name": "ipython",
    "version": 3
   },
   "file_extension": ".py",
   "mimetype": "text/x-python",
   "name": "python",
   "nbconvert_exporter": "python",
   "pygments_lexer": "ipython3",
   "version": "3.12.7"
  }
 },
 "nbformat": 4,
 "nbformat_minor": 5
}
