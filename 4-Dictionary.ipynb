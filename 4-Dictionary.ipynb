{
 "cells": [
  {
   "cell_type": "code",
   "execution_count": 1,
   "id": "bfef954b-1074-42b7-b8b6-f446d7796c52",
   "metadata": {},
   "outputs": [],
   "source": [
    "# key -value pairing\n"
   ]
  },
  {
   "cell_type": "code",
   "execution_count": 2,
   "id": "f998b9ed-9da6-494b-9ef7-16231224e4ec",
   "metadata": {},
   "outputs": [],
   "source": [
    "fruit_list = [\"banana\",\"apple\"]"
   ]
  },
  {
   "cell_type": "code",
   "execution_count": 3,
   "id": "6d6a3fe9-6e6f-4f2c-be24-bdebcfe87fd9",
   "metadata": {},
   "outputs": [],
   "source": [
    "calorie_list = [100,150]"
   ]
  },
  {
   "cell_type": "code",
   "execution_count": 4,
   "id": "f084daf7-d1ac-49e1-affe-8207356e3f85",
   "metadata": {},
   "outputs": [],
   "source": [
    "fitness_dictionary = {\"banana\" : 100 , \"apple\" : 150}"
   ]
  },
  {
   "cell_type": "code",
   "execution_count": 5,
   "id": "21929a0b-6a6c-4ae5-ad6d-7e0b023d870c",
   "metadata": {},
   "outputs": [
    {
     "data": {
      "text/plain": [
       "dict"
      ]
     },
     "execution_count": 5,
     "metadata": {},
     "output_type": "execute_result"
    }
   ],
   "source": [
    "type(fitness_dictionary)"
   ]
  },
  {
   "cell_type": "code",
   "execution_count": 6,
   "id": "e542a70d-3a13-423a-bf42-83ebdb4ef52a",
   "metadata": {},
   "outputs": [
    {
     "data": {
      "text/plain": [
       "100"
      ]
     },
     "execution_count": 6,
     "metadata": {},
     "output_type": "execute_result"
    }
   ],
   "source": [
    "fitness_dictionary[\"banana\"]"
   ]
  },
  {
   "cell_type": "code",
   "execution_count": 7,
   "id": "e1f6d47e-d161-4a8c-8c03-261b90e062e8",
   "metadata": {},
   "outputs": [
    {
     "data": {
      "text/plain": [
       "150"
      ]
     },
     "execution_count": 7,
     "metadata": {},
     "output_type": "execute_result"
    }
   ],
   "source": [
    "fitness_dictionary[\"apple\"]"
   ]
  },
  {
   "cell_type": "code",
   "execution_count": 8,
   "id": "6a9b0f73-16dc-49ea-9344-5ccee776f2fc",
   "metadata": {},
   "outputs": [
    {
     "data": {
      "text/plain": [
       "dict_keys(['banana', 'apple'])"
      ]
     },
     "execution_count": 8,
     "metadata": {},
     "output_type": "execute_result"
    }
   ],
   "source": [
    "fitness_dictionary.keys()"
   ]
  },
  {
   "cell_type": "code",
   "execution_count": 9,
   "id": "eb26f6e3-abc1-4115-ad9b-7c00bf97019e",
   "metadata": {},
   "outputs": [
    {
     "data": {
      "text/plain": [
       "dict_values([100, 150])"
      ]
     },
     "execution_count": 9,
     "metadata": {},
     "output_type": "execute_result"
    }
   ],
   "source": [
    "fitness_dictionary.values()"
   ]
  },
  {
   "cell_type": "code",
   "execution_count": 10,
   "id": "cbc86d28-039e-40f2-94f6-fd6103c3d118",
   "metadata": {},
   "outputs": [
    {
     "data": {
      "text/plain": [
       "dict_values"
      ]
     },
     "execution_count": 10,
     "metadata": {},
     "output_type": "execute_result"
    }
   ],
   "source": [
    "type(fitness_dictionary.values())"
   ]
  },
  {
   "cell_type": "code",
   "execution_count": 11,
   "id": "a3ee43ea-cf55-42b6-b013-98776e1d3346",
   "metadata": {},
   "outputs": [
    {
     "data": {
      "text/plain": [
       "[100, 150]"
      ]
     },
     "execution_count": 11,
     "metadata": {},
     "output_type": "execute_result"
    }
   ],
   "source": [
    "list(fitness_dictionary.values())"
   ]
  },
  {
   "cell_type": "code",
   "execution_count": 12,
   "id": "18212f1c-cd9a-471d-abac-013380f50046",
   "metadata": {},
   "outputs": [],
   "source": [
    "fitness_dictionary[\"banana\"] = 200"
   ]
  },
  {
   "cell_type": "code",
   "execution_count": 13,
   "id": "fab66063-c20d-43bf-b1c4-692d5446501a",
   "metadata": {},
   "outputs": [
    {
     "data": {
      "text/plain": [
       "{'banana': 200, 'apple': 150}"
      ]
     },
     "execution_count": 13,
     "metadata": {},
     "output_type": "execute_result"
    }
   ],
   "source": [
    "fitness_dictionary"
   ]
  },
  {
   "cell_type": "code",
   "execution_count": 14,
   "id": "469175b4-d1e3-4392-ae6f-59471e99e123",
   "metadata": {},
   "outputs": [],
   "source": [
    "#add \n"
   ]
  },
  {
   "cell_type": "code",
   "execution_count": 15,
   "id": "5f7a486e-d30e-4692-ab20-b319efaccf1a",
   "metadata": {},
   "outputs": [],
   "source": [
    "fitness_dictionary[\"melon\"] = 300"
   ]
  },
  {
   "cell_type": "code",
   "execution_count": 16,
   "id": "0b9066cc-9de2-421b-bf23-c89f8b711ebb",
   "metadata": {},
   "outputs": [
    {
     "data": {
      "text/plain": [
       "{'banana': 200, 'apple': 150, 'melon': 300}"
      ]
     },
     "execution_count": 16,
     "metadata": {},
     "output_type": "execute_result"
    }
   ],
   "source": [
    "fitness_dictionary"
   ]
  },
  {
   "cell_type": "code",
   "execution_count": 18,
   "id": "efcd1087-459e-4446-a6ec-a50fdeded9e0",
   "metadata": {},
   "outputs": [
    {
     "data": {
      "text/plain": [
       "0"
      ]
     },
     "execution_count": 18,
     "metadata": {},
     "output_type": "execute_result"
    }
   ],
   "source": [
    "fitness_dictionary.get(\"appl\",0)"
   ]
  },
  {
   "cell_type": "code",
   "execution_count": 19,
   "id": "e7033464-71bb-4cfe-a6fb-ac8e5a07766c",
   "metadata": {},
   "outputs": [
    {
     "data": {
      "text/plain": [
       "{'banana': 200, 'apple': 150, 'melon': 300}"
      ]
     },
     "execution_count": 19,
     "metadata": {},
     "output_type": "execute_result"
    }
   ],
   "source": [
    "fitness_dictionary"
   ]
  },
  {
   "cell_type": "code",
   "execution_count": 20,
   "id": "819e3b89-c181-4887-972f-16ce137665fa",
   "metadata": {},
   "outputs": [],
   "source": [
    "my_dictionary = {100 : \"a\" , 200 : \"b\" , 300 : \"c\"}"
   ]
  },
  {
   "cell_type": "code",
   "execution_count": 21,
   "id": "6a59318a-3c46-426e-ace5-b162e2839da7",
   "metadata": {},
   "outputs": [
    {
     "data": {
      "text/plain": [
       "{100: 'a', 200: 'b', 300: 'c'}"
      ]
     },
     "execution_count": 21,
     "metadata": {},
     "output_type": "execute_result"
    }
   ],
   "source": [
    "my_dictionary"
   ]
  },
  {
   "cell_type": "code",
   "execution_count": 22,
   "id": "2a6cd309-9a16-421a-99f6-ac776c92fc16",
   "metadata": {},
   "outputs": [
    {
     "data": {
      "text/plain": [
       "'a'"
      ]
     },
     "execution_count": 22,
     "metadata": {},
     "output_type": "execute_result"
    }
   ],
   "source": [
    "my_dictionary[100]"
   ]
  },
  {
   "cell_type": "code",
   "execution_count": 23,
   "id": "23e8c8b8-bd84-4a40-a651-b58e83b194b9",
   "metadata": {},
   "outputs": [],
   "source": [
    "my_dictionary = {\"key1\" : \"value1\" , \"key2\" : \"value2\" , \"key3\" : \"value3\"}"
   ]
  },
  {
   "cell_type": "code",
   "execution_count": 24,
   "id": "00ad278f-7b79-47c2-8c0f-da13f033125d",
   "metadata": {},
   "outputs": [
    {
     "data": {
      "text/plain": [
       "{'key1': 'value1', 'key2': 'value2', 'key3': 'value3'}"
      ]
     },
     "execution_count": 24,
     "metadata": {},
     "output_type": "execute_result"
    }
   ],
   "source": [
    "my_dictionary\n"
   ]
  },
  {
   "cell_type": "code",
   "execution_count": 26,
   "id": "9412b197-e782-4541-be31-7096909e0b8f",
   "metadata": {},
   "outputs": [
    {
     "data": {
      "text/plain": [
       "'value1'"
      ]
     },
     "execution_count": 26,
     "metadata": {},
     "output_type": "execute_result"
    }
   ],
   "source": [
    "my_dictionary[\"key1\"]"
   ]
  },
  {
   "cell_type": "code",
   "execution_count": 28,
   "id": "b7fea125-fd5c-416c-90ce-4caeecd77b4d",
   "metadata": {},
   "outputs": [],
   "source": [
    " my_mixed_dictionary = {\"key\" : 100 , \"key2\" : 3.14 , \"key3\" : [10,20,30] }"
   ]
  },
  {
   "cell_type": "code",
   "execution_count": 29,
   "id": "0a549e92-626e-4265-bb5f-1bb119d2cf51",
   "metadata": {},
   "outputs": [
    {
     "data": {
      "text/plain": [
       "{'key': 100, 'key2': 3.14, 'key3': [10, 20, 30]}"
      ]
     },
     "execution_count": 29,
     "metadata": {},
     "output_type": "execute_result"
    }
   ],
   "source": [
    "my_mixed_dictionary"
   ]
  },
  {
   "cell_type": "code",
   "execution_count": 31,
   "id": "10f9af8c-a01e-40ca-bde0-f449ad54ba13",
   "metadata": {},
   "outputs": [
    {
     "data": {
      "text/plain": [
       "[10, 20, 30]"
      ]
     },
     "execution_count": 31,
     "metadata": {},
     "output_type": "execute_result"
    }
   ],
   "source": [
    "my_mixed_dictionary[\"key3\"]"
   ]
  },
  {
   "cell_type": "code",
   "execution_count": 32,
   "id": "9aaef08f-c71e-4c5c-88a1-e24990df46f9",
   "metadata": {},
   "outputs": [
    {
     "data": {
      "text/plain": [
       "20"
      ]
     },
     "execution_count": 32,
     "metadata": {},
     "output_type": "execute_result"
    }
   ],
   "source": [
    "my_mixed_dictionary[\"key3\"][1]"
   ]
  },
  {
   "cell_type": "code",
   "execution_count": 33,
   "id": "dd7d16db-a66f-4c2d-88ee-78706b2d7859",
   "metadata": {},
   "outputs": [],
   "source": [
    "last_dictionary = {\"k1\" : 10 , \"k2\" : [10,20,30,40], \"k3\" : \"string\" , \"k4\" : {\"a\" : 100 ,\"b\" : 200}}"
   ]
  },
  {
   "cell_type": "code",
   "execution_count": 34,
   "id": "ee481d0c-6ca3-4f60-bd3c-ac9d4cc4f2c5",
   "metadata": {},
   "outputs": [
    {
     "data": {
      "text/plain": [
       "{'k1': 10, 'k2': [10, 20, 30, 40], 'k3': 'string', 'k4': {'a': 100, 'b': 200}}"
      ]
     },
     "execution_count": 34,
     "metadata": {},
     "output_type": "execute_result"
    }
   ],
   "source": [
    "last_dictionary"
   ]
  },
  {
   "cell_type": "code",
   "execution_count": 36,
   "id": "2e7dbfc4-2ade-4123-896b-966399f2653a",
   "metadata": {},
   "outputs": [
    {
     "data": {
      "text/plain": [
       "30"
      ]
     },
     "execution_count": 36,
     "metadata": {},
     "output_type": "execute_result"
    }
   ],
   "source": [
    "last_dictionary[\"k2\"][2]"
   ]
  },
  {
   "cell_type": "code",
   "execution_count": 37,
   "id": "53732057-d822-4129-9b55-5766152727dc",
   "metadata": {},
   "outputs": [
    {
     "data": {
      "text/plain": [
       "100"
      ]
     },
     "execution_count": 37,
     "metadata": {},
     "output_type": "execute_result"
    }
   ],
   "source": [
    "last_dictionary[\"k4\"][\"a\"]"
   ]
  },
  {
   "cell_type": "code",
   "execution_count": null,
   "id": "cfada6f7-d5c5-4c53-a434-a304080c7341",
   "metadata": {},
   "outputs": [],
   "source": []
  }
 ],
 "metadata": {
  "kernelspec": {
   "display_name": "Python 3 (ipykernel)",
   "language": "python",
   "name": "python3"
  },
  "language_info": {
   "codemirror_mode": {
    "name": "ipython",
    "version": 3
   },
   "file_extension": ".py",
   "mimetype": "text/x-python",
   "name": "python",
   "nbconvert_exporter": "python",
   "pygments_lexer": "ipython3",
   "version": "3.12.7"
  }
 },
 "nbformat": 4,
 "nbformat_minor": 5
}
