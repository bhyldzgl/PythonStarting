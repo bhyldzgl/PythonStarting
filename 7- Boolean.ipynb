{
 "cells": [
  {
   "cell_type": "code",
   "execution_count": 1,
   "id": "5f9cf454-9bfe-4c01-b446-b774a9610595",
   "metadata": {},
   "outputs": [
    {
     "data": {
      "text/plain": [
       "True"
      ]
     },
     "execution_count": 1,
     "metadata": {},
     "output_type": "execute_result"
    }
   ],
   "source": [
    "True\n"
   ]
  },
  {
   "cell_type": "code",
   "execution_count": 2,
   "id": "5d513495-3df1-4ad4-b9cf-375281952ce1",
   "metadata": {},
   "outputs": [
    {
     "data": {
      "text/plain": [
       "False"
      ]
     },
     "execution_count": 2,
     "metadata": {},
     "output_type": "execute_result"
    }
   ],
   "source": [
    "False"
   ]
  },
  {
   "cell_type": "code",
   "execution_count": 3,
   "id": "28c7dbd3-403c-4717-9d1f-649f9cb93a4f",
   "metadata": {},
   "outputs": [],
   "source": [
    "myBoolean = True"
   ]
  },
  {
   "cell_type": "code",
   "execution_count": 4,
   "id": "14112ce0-f94e-45c9-9888-d88320f3bab3",
   "metadata": {},
   "outputs": [
    {
     "data": {
      "text/plain": [
       "bool"
      ]
     },
     "execution_count": 4,
     "metadata": {},
     "output_type": "execute_result"
    }
   ],
   "source": [
    "type(myBoolean)"
   ]
  },
  {
   "cell_type": "code",
   "execution_count": 5,
   "id": "bce3656c-dc28-4a1c-baed-9197a9c6b8fe",
   "metadata": {},
   "outputs": [
    {
     "data": {
      "text/plain": [
       "True"
      ]
     },
     "execution_count": 5,
     "metadata": {},
     "output_type": "execute_result"
    }
   ],
   "source": [
    "5 > 3 "
   ]
  },
  {
   "cell_type": "code",
   "execution_count": 7,
   "id": "9876d6b9-493c-4463-8e39-24689ab319f5",
   "metadata": {},
   "outputs": [
    {
     "data": {
      "text/plain": [
       "False"
      ]
     },
     "execution_count": 7,
     "metadata": {},
     "output_type": "execute_result"
    }
   ],
   "source": [
    "3 > 5"
   ]
  },
  {
   "cell_type": "code",
   "execution_count": 8,
   "id": "64aaadba-6cd6-4f89-a95b-e315c7898d0c",
   "metadata": {},
   "outputs": [
    {
     "name": "stdin",
     "output_type": "stream",
     "text": [
      "Enter age :  35\n"
     ]
    }
   ],
   "source": [
    "age = input(\"Enter age : \")\n"
   ]
  },
  {
   "cell_type": "code",
   "execution_count": 9,
   "id": "f8156844-1074-4fa9-9582-2aeafe5d7daa",
   "metadata": {},
   "outputs": [
    {
     "data": {
      "text/plain": [
       "'35'"
      ]
     },
     "execution_count": 9,
     "metadata": {},
     "output_type": "execute_result"
    }
   ],
   "source": [
    "age "
   ]
  },
  {
   "cell_type": "code",
   "execution_count": 10,
   "id": "cf859d3c-1ed3-4563-9933-8887ef25ca00",
   "metadata": {},
   "outputs": [
    {
     "data": {
      "text/plain": [
       "True"
      ]
     },
     "execution_count": 10,
     "metadata": {},
     "output_type": "execute_result"
    }
   ],
   "source": [
    "int(age) > 18 "
   ]
  },
  {
   "cell_type": "code",
   "execution_count": null,
   "id": "12b36cd9-e591-4858-b7ab-3cb40d5a958a",
   "metadata": {},
   "outputs": [],
   "source": []
  }
 ],
 "metadata": {
  "kernelspec": {
   "display_name": "Python 3 (ipykernel)",
   "language": "python",
   "name": "python3"
  },
  "language_info": {
   "codemirror_mode": {
    "name": "ipython",
    "version": 3
   },
   "file_extension": ".py",
   "mimetype": "text/x-python",
   "name": "python",
   "nbconvert_exporter": "python",
   "pygments_lexer": "ipython3",
   "version": "3.12.7"
  }
 },
 "nbformat": 4,
 "nbformat_minor": 5
}
